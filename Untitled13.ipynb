{
  "nbformat": 4,
  "nbformat_minor": 0,
  "metadata": {
    "colab": {
      "provenance": []
    },
    "kernelspec": {
      "name": "python3",
      "display_name": "Python 3"
    },
    "language_info": {
      "name": "python"
    }
  },
  "cells": [
    {
      "cell_type": "code",
      "source": [
        "# Deleting two characters and reversing the resultant string and printing it.\n",
        "n=input(\"enter a string: \")\n",
        "x=n[2:]\n",
        "print(x[::-1])"
      ],
      "metadata": {
        "colab": {
          "base_uri": "https://localhost:8080/"
        },
        "id": "g0Sn42igKszO",
        "outputId": "e676826b-b5e1-43c8-92e3-b14359ca214c"
      },
      "execution_count": 25,
      "outputs": [
        {
          "output_type": "stream",
          "name": "stdout",
          "text": [
            "enter a string: python\n",
            "noht\n"
          ]
        }
      ]
    },
    {
      "cell_type": "code",
      "execution_count": 26,
      "metadata": {
        "colab": {
          "base_uri": "https://localhost:8080/"
        },
        "id": "jkyFxXGMIO_2",
        "outputId": "38294e5e-c46d-4095-89fc-1566126fac82"
      },
      "outputs": [
        {
          "output_type": "stream",
          "name": "stdout",
          "text": [
            "enter a number n1: 5\n",
            "enter a number n2: 8\n",
            "Addition: 13\n",
            "Substraction: -3\n",
            "Multiplication: 40\n",
            "Division: 0.625\n"
          ]
        }
      ],
      "source": [
        "# Performing four arthemtic operetions on two numbers\n",
        "n1=int(input(\"enter a number n1: \"))\n",
        "n2=int(input(\"enter a number n2: \"))\n",
        "x=n1+n2\n",
        "y=n1-n2\n",
        "q=n1*n2\n",
        "m=n1/n2\n",
        "print(\"Addition:\",x)\n",
        "print(\"Substraction:\",y)\n",
        "print(\"Multiplication:\",q)\n",
        "print(\"Division:\",m)"
      ]
    },
    {
      "cell_type": "code",
      "source": [
        "\n",
        "# Program that accepts a sentence and replace each occurance of 'python' with 'pythons'.\n",
        "n=input(\"enter a string: \")\n",
        "x=n.replace(\"python\",\"pythons\")\n",
        "print(\"The particular name with extension is:\", x)"
      ],
      "metadata": {
        "colab": {
          "base_uri": "https://localhost:8080/"
        },
        "id": "_I6YKA7NI81F",
        "outputId": "73ba4e3d-837f-486a-8c40-5c7ab0eaeca2"
      },
      "execution_count": 27,
      "outputs": [
        {
          "output_type": "stream",
          "name": "stdout",
          "text": [
            "enter a string: I love coding python\n",
            "The particular name with extension is: I love coding pythons\n"
          ]
        }
      ]
    },
    {
      "cell_type": "code",
      "source": [
        "# program to print the letter grade based on an input class score.\n",
        "n=int(input(\"enter a number: \"))\n",
        "if(n>=90 and n<=100 ):\n",
        "  print(\"Grade A\")\n",
        "elif(n>80 and n<=89):\n",
        "  print(\"Grade B\")\n",
        "elif(n>70 and n<=79):\n",
        "  print(\"Grade C\")\n",
        "elif(n>60 and n<=69):\n",
        "  print(\"Grade D\")\n",
        "elif (n>100):\n",
        "  print(\"The value is out of range\")\n",
        "else:\n",
        "  print(\"Grade E  \")"
      ],
      "metadata": {
        "colab": {
          "base_uri": "https://localhost:8080/"
        },
        "id": "5LXaJSArJTI4",
        "outputId": "440de135-004a-4c84-d1c7-6e99998a916a"
      },
      "execution_count": 29,
      "outputs": [
        {
          "output_type": "stream",
          "name": "stdout",
          "text": [
            "enter a number: 85\n",
            "Grade B\n"
          ]
        }
      ]
    }
  ]
}